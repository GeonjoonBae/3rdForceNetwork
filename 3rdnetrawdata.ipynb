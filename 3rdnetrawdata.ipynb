{
 "cells": [
  {
   "cell_type": "markdown",
   "id": "c51db14b",
   "metadata": {},
   "source": [
    "## 잡지별 rawdata 저장 폴더명\n",
    "\n",
    "### 1. 제3세력 잡지:\n",
    "gc(관찰) gmb(광명보) gx(국신) mzbp(민주베이핑) mzcq(민주충칭) mzgl(민주구이린) mzkm(민주쿤밍) mzsh(민주상하이) syw(시여문) xdwz(현대문적) xl(신로주간) zb(주보) zhlt(중화논단) zj(중건) zjbp(중건베이핑) zjhbhk(중건화북) zjzh(중건종합) zs(재생) zw(전망) zl(주류)\n",
    "\n",
    "### 2. 국공양당 잡지:\n",
    "jf(해방) wc(문췌) qz(군중) sdzz(시대잡지) zbcom(정보) zyzk(중앙주간)"
   ]
  },
  {
   "cell_type": "code",
   "execution_count": 2,
   "id": "2f987f17",
   "metadata": {
    "scrolled": true
   },
   "outputs": [
    {
     "name": "stdout",
     "output_type": "stream"
  }
 ]
   "source": [
    "import os\n",
    "\n",
    "# 합칠 파일들이 들어있는 폴더 경로\n",
    "folder_path = 'C:/Users/class/Documents/3rdnetwork/rawdata/gc'\n",
    "\n",
    "# 결과를 저장할 파일 경로\n",
    "output_path = 'C:/Users/class/Documents/3rdnetwork/pretext/gc.txt'\n",
    "\n",
    "# 폴더 내의 모든 파일 목록 가져오기\n",
    "file_list = os.listdir(folder_path)\n",
    "\n",
    "# 텍스트 파일 내용을 담을 빈 문자열\n",
    "combined_text = \"\"\n",
    "\n",
    "# 각 파일의 내용을 읽어서 결합\n",
    "for file_name in file_list:\n",
    "    if file_name.endswith('.txt'):\n",
    "        file_path = os.path.join(folder_path, file_name)\n",
    "        with open(file_path, 'r', encoding='utf-8') as file:\n",
    "            file_content = file.read()\n",
    "            combined_text += file_content + \"\\n\"\n",
    "\n",
    "# 결과를 새로운 파일에 쓰기\n",
    "#with open(output_path, 'w', encoding='utf-8') as output_file:\n",
    "#    output_file.write(combined_text)\n",
    "print(combined_text)"
   ]
  },
   "outputs": [
    {
     "name": "stdout",
     "output_type": "stream"
  }
 ]
  {
   "cell_type": "markdown",
   "id": "cec99e0c",
   "metadata": {},
   "source": [
    "## sublime text로 자료 정리\n",
    "\n",
    "### 1. 쉼표 변환\n",
    ", => ，(중국 폰트 逗號로, 이름, 제목의 쉼표가 csv 구분자로 걸리지 않도록)\n",
    "\n",
    "### 2. 열 제목 설정\n",
    "맨 윗 행에 <br>\n",
    "serial,title,author,journal,year,vol,page <br>\n",
    "추가\n",
    "\n",
    "### 3. csv 표시 형식으로 정리 1\n",
    "题名：<br>\n",
    "\\n作者：<br>\n",
    "\\n刊名：<br>\n",
    "\\n年：<br>\n",
    "\\n卷：<br>\n",
    "  期：<br>\n",
    "=> , (또는 ;)\n",
    "\n",
    "### 4. csv 표시 형식으로 정리 2\n",
    "\\n\\n\n",
    "=> \\n\n",
    "<br>두 세번 반복 시행<br>\n",
    "\n",
    "### 5. 저장/인코딩\n",
    "(1) 텍스트 파일 저장: Save As(Ctrl + Shift + S) -> 파일명: oooo(csv).txt<br>\n",
    "(2) 인코딩: File - Save with Encoding - UTF-8<br>\n",
    "(3) CSV 파일 저장: Save As(Ctrl + Shift + S) -> 파일 형식: All files(모든 파일) -> 파일명: oooo(csv).csv<br>\n",
    "\n",
    "### 6. R로 이동\n",
    "이후 작업은 R을 활용하는 게 더 쉬움.\n",
    "csv를 R studio에서 import dataset한 후에 첫 열을 제거하는 코드 시행, csv 파일로 저장<br>\n",
    "\n",
    "df <- gc_csv_<br>\n",
    "df <- df[, -1]<br>\n",
    "write.csv(df,'gc(csv)2.csv', row.names = FALSE)\n"
   ]
  }
 ],
 "metadata": {
  "kernelspec": {
   "display_name": "Python 3 (ipykernel)",
   "language": "python",
   "name": "python3"
  },
  "language_info": {
   "codemirror_mode": {
    "name": "ipython",
    "version": 3
   },
   "file_extension": ".py",
   "mimetype": "text/x-python",
   "name": "python",
   "nbconvert_exporter": "python",
   "pygments_lexer": "ipython3",
   "version": "3.11.4"
  }
 },
 "nbformat": 4,
 "nbformat_minor": 5
}
